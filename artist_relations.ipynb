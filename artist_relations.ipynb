{
 "cells": [
  {
   "cell_type": "code",
   "execution_count": 1,
   "metadata": {},
   "outputs": [],
   "source": [
    "import json\n",
    "import pandas as pd\n",
    "\n",
    "# PATHS\n",
    "LINKED_JAZZ_PATH = \"pratt_linked_jazz/linked-jazz.trig\"\n",
    "DATA_MAP_PATH = \"data_map.csv\"\n",
    "\n",
    "#RECORDINGS_PATH = \"datasets-main/dataset/jaah/cornucopia_data/musicbrainz/\" \n",
    "RECORDINGS_PATH = \"jaah_recording_meta/\"\n",
    "\n",
    "ARTISTS_PATH = \"jaah_artist_meta\"\n",
    "\n",
    "OUTPUT_1 = \"outputs/sameas_by_names.txt\"\n",
    "OUTPUT_2 = \"outputs/sameas_by_sparql.txt\"\n",
    "\n",
    "#df = pd.read_csv(DATA_MAP_PATH)\n",
    "#df.head(2)"
   ]
  },
  {
   "cell_type": "code",
   "execution_count": 2,
   "metadata": {},
   "outputs": [
    {
     "name": "stdout",
     "output_type": "stream",
     "text": [
      "supporting musician\n",
      "teacher\n",
      "parent\n",
      "is person\n",
      "vocal supporting musician\n",
      "involved with\n",
      "tribute\n",
      "named after\n",
      "subgroup\n",
      "married\n",
      "conductor position\n",
      "artistic director\n",
      "founder\n",
      "collaboration\n",
      "instrumental supporting musician\n",
      "sibling\n",
      "member of band\n"
     ]
    },
    {
     "data": {
      "text/plain": [
       "17"
      ]
     },
     "execution_count": 2,
     "metadata": {},
     "output_type": "execute_result"
    }
   ],
   "source": [
    "main_field = 'artist'\n",
    "relation_list = 'artist-relation-list'\n",
    "\n",
    "jaah_relations = []\n",
    "for filepath in os.listdir(ARTISTS_PATH):\n",
    "    with open(os.path.join(ARTISTS_PATH,filepath),'r') as json_file:\n",
    "        json_entry = json.load(json_file)\n",
    "\n",
    "        for artist in json_entry[main_field].get(relation_list, []):\n",
    "            \n",
    "            #print(artist['type'])\n",
    "            jaah_relations.append(artist['type'])\n",
    "\n",
    "print(*set(jaah_relations),sep='\\n')\n",
    "len(set(jaah_relations))\n"
   ]
  },
  {
   "cell_type": "code",
   "execution_count": 3,
   "metadata": {},
   "outputs": [
    {
     "name": "stdout",
     "output_type": "stream",
     "text": [
      "<http://purl.org/vocab/relationship/mentorOf>\n",
      "<http://linkedjazz.org/ontology/bandmember>\n",
      "<http://purl.org/vocab/relationship/friendOf>\n",
      "<http://linkedjazz.org/ontology/playedTogether>\n",
      "<http://purl.org/vocab/relationship/hasMet>\n",
      "<http://purl.org/vocab/relationship/knowsOf>\n",
      "<http://purl.org/vocab/relationship/acquaintanceOf>\n",
      "<http://purl.org/ontology/mo/collaborated_with>\n",
      "<http://purl.org/vocab/relationship/influencedBy>\n",
      "<http://linkedjazz.org/ontology/touredWith>\n",
      "<http://linkedjazz.org/ontology/bandLeaderOf>\n",
      "<http://linkedjazz.org/ontology/inBandTogether>\n"
     ]
    },
    {
     "data": {
      "text/plain": [
       "12"
      ]
     },
     "execution_count": 3,
     "metadata": {},
     "output_type": "execute_result"
    }
   ],
   "source": [
    "# list pratt different relationships:\n",
    "\n",
    "with open(LINKED_JAZZ_PATH,\"r\") as f:\n",
    "    pratt_file = f.readlines()\n",
    "\n",
    "flag = 0\n",
    "pratt_relationships = []\n",
    "\n",
    "for i, line in enumerate(pratt_file):\n",
    "    if i == 0: continue\n",
    "    if '{' in line:\n",
    "        flag = 1\n",
    "        continue\n",
    "    if flag == 1:\n",
    "        if '}' in line: break \n",
    "        #print(line)\n",
    "        line = line.split()\n",
    "        #print(line[1])\n",
    "        pratt_relationships.append(line[1])\n",
    "\n",
    "print(*set(pratt_relationships),sep='\\n')\n",
    "len(set(pratt_relationships))"
   ]
  },
  {
   "cell_type": "code",
   "execution_count": null,
   "metadata": {},
   "outputs": [],
   "source": []
  }
 ],
 "metadata": {
  "interpreter": {
   "hash": "304309f8f08a6e441a6624c75f690924b1583d29a1c10b8fb85552aaef235de2"
  },
  "kernelspec": {
   "display_name": "Python 3.7.9 ('cv2env')",
   "language": "python",
   "name": "python3"
  },
  "language_info": {
   "codemirror_mode": {
    "name": "ipython",
    "version": 3
   },
   "file_extension": ".py",
   "mimetype": "text/x-python",
   "name": "python",
   "nbconvert_exporter": "python",
   "pygments_lexer": "ipython3",
   "version": "3.7.9"
  },
  "orig_nbformat": 4
 },
 "nbformat": 4,
 "nbformat_minor": 2
}
